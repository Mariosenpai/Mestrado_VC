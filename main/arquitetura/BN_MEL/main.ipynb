{
 "cells": [
  {
   "cell_type": "code",
   "execution_count": null,
   "id": "initial_id",
   "metadata": {
    "collapsed": true
   },
   "outputs": [],
   "source": [
    "from main.data_loader.CVMPT import cv_mozilla_pt_dataset_com_ruido\n",
    "\n",
    "dataset_train = cv_mozilla_pt_dataset_com_ruido(\n",
    "    path=r\"C:\\Users\\USER\\Documents\\Mestrado\\codigo\\Mestrado_VC\\dataset\\cv-corpus-mozilla-pt\\pt\", \n",
    "    path_duracoes_tsv_csv=\"dataset/cv-corpus-mozilla-pt/pt/clip_durations.tsv\",\n",
    "    ext='mp3',\n",
    "    segundos=5\n",
    ")\n",
    "\n",
    "dataset_val = cv_mozilla_pt_dataset_com_ruido(\n",
    "    path=r\"C:\\Users\\USER\\Documents\\Mestrado\\codigo\\Mestrado_VC\\dataset\\cv-corpus-mozilla-pt\\pt\", \n",
    "    path_duracoes_tsv_csv=\"dataset/cv-corpus-mozilla-pt/pt/clip_durations.tsv\",\n",
    "    ext='mp3',\n",
    "    segundos=5,\n",
    "    validacao=True\n",
    ")"
   ]
  }
 ],
 "metadata": {
  "kernelspec": {
   "display_name": "Python 3",
   "language": "python",
   "name": "python3"
  },
  "language_info": {
   "codemirror_mode": {
    "name": "ipython",
    "version": 2
   },
   "file_extension": ".py",
   "mimetype": "text/x-python",
   "name": "python",
   "nbconvert_exporter": "python",
   "pygments_lexer": "ipython2",
   "version": "2.7.6"
  }
 },
 "nbformat": 4,
 "nbformat_minor": 5
}
