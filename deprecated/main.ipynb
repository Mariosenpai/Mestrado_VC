{
 "cells": [
  {
   "cell_type": "markdown",
   "id": "5b8e5039",
   "metadata": {
    "_cell_guid": "d0d8bbe6-1e0b-4aa0-af25-ee0937febffc",
    "_uuid": "af8f02d5-2e54-4d5a-b5f9-1aa3aa261938",
    "collapsed": false,
    "jupyter": {
     "outputs_hidden": false
    },
    "papermill": {
     "duration": 0.007901,
     "end_time": "2025-01-02T01:45:32.039018",
     "exception": false,
     "start_time": "2025-01-02T01:45:32.031117",
     "status": "completed"
    },
    "tags": []
   },
   "source": [
    "# Links Para Artigos Relacionados\n",
    "\n",
    "\n",
    "SSAST: Self-Supervised Audio Spectrogram Transformer [Link](http://https://arxiv.org/abs/2110.09784)\n",
    "\n",
    "Audio representations for deep learning in sound synthesis: A review [Link](https://arxiv.org/abs/2201.02490)\n",
    "\n",
    "Audio super-resolution via vision transformer [Link](https://link.springer.com/article/10.1007/s10844-023-00833-w)\n",
    "\n",
    "Git ViT Super-Resolution  [GitHub](https://github.com/simona-nistico/ViT-SR)"
   ]
  },
  {
   "cell_type": "markdown",
   "id": "8ad6269d",
   "metadata": {
    "papermill": {
     "duration": 0.006669,
     "end_time": "2025-01-02T01:45:32.052755",
     "exception": false,
     "start_time": "2025-01-02T01:45:32.046086",
     "status": "completed"
    },
    "tags": []
   },
   "source": [
    "# Variaveis"
   ]
  },
  {
   "cell_type": "code",
   "id": "e11c72ad",
   "metadata": {
    "_cell_guid": "35c9e5d3-2e32-4423-9b57-c7aa0d579727",
    "_uuid": "db7bcbc4-4cb7-4ae8-a3ae-a415b74e40af",
    "execution": {
     "iopub.execute_input": "2025-01-02T01:45:32.068016Z",
     "iopub.status.busy": "2025-01-02T01:45:32.067744Z",
     "iopub.status.idle": "2025-01-02T01:45:32.075868Z",
     "shell.execute_reply": "2025-01-02T01:45:32.075063Z"
    },
    "papermill": {
     "duration": 0.017718,
     "end_time": "2025-01-02T01:45:32.077589",
     "exception": false,
     "start_time": "2025-01-02T01:45:32.059871",
     "status": "completed"
    },
    "tags": [],
    "ExecuteTime": {
     "end_time": "2025-02-13T11:41:27.837096Z",
     "start_time": "2025-02-13T11:41:27.833925Z"
    }
   },
   "source": [
    "\n",
    "\n",
    "fma_small_path = '/kaggle/input/fma-free-music-archive-small-medium/fma_small/fma_small'\n",
    "fma_medium_path = '/kaggle/input/fma-free-music-archive-small-medium/fma_medium'\n",
    "\n",
    "input_test_path = \"/kaggle/input/teste1\"\n",
    "output_path = r'/kaggle/working/output'\n",
    "\n",
    "train_path = r\"dataset/2024_AUDIOS_PROJETO_LARINGE/SEM_TRAQUEOSTOMIA/DALLETE_FONO\""
   ],
   "outputs": [],
   "execution_count": 1
  },
  {
   "cell_type": "markdown",
   "id": "9ab5ff13",
   "metadata": {
    "papermill": {
     "duration": 0.007256,
     "end_time": "2025-01-02T01:45:32.091950",
     "exception": false,
     "start_time": "2025-01-02T01:45:32.084694",
     "status": "completed"
    },
    "tags": []
   },
   "source": [
    "# Importes"
   ]
  },
  {
   "cell_type": "code",
   "id": "9a6d424b",
   "metadata": {
    "_cell_guid": "2f76953d-e615-4c0d-a0eb-78890c3e0264",
    "_uuid": "420c835c-bff0-4d80-87e4-37dbe01ad6b2",
    "execution": {
     "iopub.execute_input": "2025-01-02T01:45:32.106691Z",
     "iopub.status.busy": "2025-01-02T01:45:32.106427Z",
     "iopub.status.idle": "2025-01-02T01:45:38.288495Z",
     "shell.execute_reply": "2025-01-02T01:45:38.287592Z"
    },
    "papermill": {
     "duration": 6.191853,
     "end_time": "2025-01-02T01:45:38.290700",
     "exception": false,
     "start_time": "2025-01-02T01:45:32.098847",
     "status": "completed"
    },
    "tags": [],
    "ExecuteTime": {
     "end_time": "2025-02-13T11:41:31.308314Z",
     "start_time": "2025-02-13T11:41:27.837096Z"
    }
   },
   "source": [
    "from main.pre_processamento.spectograma import redimensionar_audio_para_tamanho_original\n",
    "from main.utils.gerar import info_audio\n",
    "\n",
    "import torch.nn as nn\n",
    "\n",
    "import soundfile as sf\n",
    "\n",
    "from main.data_loader.LE import LE_Dataset, collate_fn\n",
    "from main.config import batch_size\n",
    "\n",
    "from transformers import AdamW\n",
    "\n",
    "import torch\n",
    "import numpy as np\n",
    "from matplotlib import pyplot as plt\n",
    "from main.arquitetura.auto_encoder.modelo.auto_encoder import GenerativeNetworkAuto\n"
   ],
   "outputs": [],
   "execution_count": 2
  },
  {
   "cell_type": "code",
   "id": "e9474ea4",
   "metadata": {
    "_cell_guid": "7e0bff9d-da8f-433e-a585-f6918bda38ef",
    "_uuid": "6f0b18d4-56a3-45cd-a206-e578eb57ae61",
    "execution": {
     "iopub.execute_input": "2025-01-02T01:45:38.306612Z",
     "iopub.status.busy": "2025-01-02T01:45:38.305940Z",
     "iopub.status.idle": "2025-01-02T01:45:38.499966Z",
     "shell.execute_reply": "2025-01-02T01:45:38.499080Z"
    },
    "papermill": {
     "duration": 0.203998,
     "end_time": "2025-01-02T01:45:38.501964",
     "exception": false,
     "start_time": "2025-01-02T01:45:38.297966",
     "status": "completed"
    },
    "tags": [],
    "ExecuteTime": {
     "end_time": "2025-02-13T11:41:31.407829Z",
     "start_time": "2025-02-13T11:41:31.308314Z"
    }
   },
   "source": [
    "gpu_info = !nvidia-smi\n",
    "gpu_info = '\\n'.join(gpu_info)\n",
    "if gpu_info.find('failed') >= 0:\n",
    "  print('Not connected to a GPU')\n",
    "else:\n",
    "  print(gpu_info)\n",
    "\n",
    "CUDA_VISIBLE_DEVICES=7\n",
    "device = torch.device('cuda' if torch.cuda.is_available() else 'cpu')\n",
    "print(device)"
   ],
   "outputs": [
    {
     "name": "stdout",
     "output_type": "stream",
     "text": [
      "Thu Feb 13 08:41:31 2025       \n",
      "+-----------------------------------------------------------------------------------------+\n",
      "| NVIDIA-SMI 560.94                 Driver Version: 560.94         CUDA Version: 12.6     |\n",
      "|-----------------------------------------+------------------------+----------------------+\n",
      "| GPU  Name                  Driver-Model | Bus-Id          Disp.A | Volatile Uncorr. ECC |\n",
      "| Fan  Temp   Perf          Pwr:Usage/Cap |           Memory-Usage | GPU-Util  Compute M. |\n",
      "|                                         |                        |               MIG M. |\n",
      "|=========================================+========================+======================|\n",
      "|   0  NVIDIA GeForce RTX 3060      WDDM  |   00000000:01:00.0  On |                  N/A |\n",
      "|  0%   54C    P8             16W /  170W |     984MiB /  12288MiB |     13%      Default |\n",
      "|                                         |                        |                  N/A |\n",
      "+-----------------------------------------+------------------------+----------------------+\n",
      "                                                                                         \n",
      "+-----------------------------------------------------------------------------------------+\n",
      "| Processes:                                                                              |\n",
      "|  GPU   GI   CI        PID   Type   Process name                              GPU Memory |\n",
      "|        ID   ID                                                               Usage      |\n",
      "|=========================================================================================|\n",
      "|    0   N/A  N/A      1796    C+G   ...\\PyCharm 2024.1.5\\bin\\pycharm64.exe      N/A      |\n",
      "|    0   N/A  N/A      2244    C+G   ..._x64__2p2nqsd0c76g0\\app\\ChatGPT.exe      N/A      |\n",
      "|    0   N/A  N/A      3556    C+G   ...Data\\Local\\Programs\\Opera\\opera.exe      N/A      |\n",
      "|    0   N/A  N/A     10472    C+G   C:\\Windows\\System32\\ShellHost.exe           N/A      |\n",
      "|    0   N/A  N/A     10480    C+G   C:\\Windows\\explorer.exe                     N/A      |\n",
      "|    0   N/A  N/A     11300    C+G   ...2txyewy\\StartMenuExperienceHost.exe      N/A      |\n",
      "|    0   N/A  N/A     11640    C+G   ...64__8wekyb3d8bbwe\\CalculatorApp.exe      N/A      |\n",
      "|    0   N/A  N/A     11732    C+G   ...s\\System32\\ApplicationFrameHost.exe      N/A      |\n",
      "|    0   N/A  N/A     12280    C+G   ...nt.CBS_cw5n1h2txyewy\\SearchHost.exe      N/A      |\n",
      "|    0   N/A  N/A     13328    C+G   ...64__8wekyb3d8bbwe\\CalculatorApp.exe      N/A      |\n",
      "|    0   N/A  N/A     14184    C+G   ...t.LockApp_cw5n1h2txyewy\\LockApp.exe      N/A      |\n",
      "|    0   N/A  N/A     14900    C+G   ...\\Local\\slack\\app-4.42.117\\slack.exe      N/A      |\n",
      "|    0   N/A  N/A     15488    C+G   ...ekyb3d8bbwe\\PhoneExperienceHost.exe      N/A      |\n",
      "|    0   N/A  N/A     15612    C+G   ...\\OpenVPN Connect\\OpenVPNConnect.exe      N/A      |\n",
      "|    0   N/A  N/A     16100    C+G   ...cal\\Microsoft\\OneDrive\\OneDrive.exe      N/A      |\n",
      "|    0   N/A  N/A     17236    C+G   ...Data\\Local\\Programs\\Opera\\opera.exe      N/A      |\n",
      "|    0   N/A  N/A     19512    C+G   ...n\\132.0.2957.140\\msedgewebview2.exe      N/A      |\n",
      "|    0   N/A  N/A     22440    C+G   ...02.0_x64__zpdnekdrzrea0\\Spotify.exe      N/A      |\n",
      "|    0   N/A  N/A     23644    C+G   ...5n1h2txyewy\\ShellExperienceHost.exe      N/A      |\n",
      "|    0   N/A  N/A     24476    C+G   ...\\Local\\slack\\app-4.42.117\\slack.exe      N/A      |\n",
      "|    0   N/A  N/A     25296    C+G   ...n\\132.0.2957.140\\msedgewebview2.exe      N/A      |\n",
      "|    0   N/A  N/A     25884    C+G   ...436_x64__8wekyb3d8bbwe\\ms-teams.exe      N/A      |\n",
      "|    0   N/A  N/A     26784    C+G   ...8bbwe\\SnippingTool\\SnippingTool.exe      N/A      |\n",
      "|    0   N/A  N/A     30752    C+G   ...crosoft\\Edge\\Application\\msedge.exe      N/A      |\n",
      "+-----------------------------------------------------------------------------------------+\n",
      "cuda\n"
     ]
    }
   ],
   "execution_count": 3
  },
  {
   "metadata": {},
   "cell_type": "markdown",
   "source": "# Pre-processamento",
   "id": "6558042e80e1c3bc"
  },
  {
   "metadata": {},
   "cell_type": "markdown",
   "source": "Transformar audios m4a para mp3",
   "id": "eca280123d940588"
  },
  {
   "cell_type": "markdown",
   "id": "331d8c28",
   "metadata": {
    "papermill": {
     "duration": 0.006861,
     "end_time": "2025-01-02T01:45:38.516256",
     "exception": false,
     "start_time": "2025-01-02T01:45:38.509395",
     "status": "completed"
    },
    "tags": []
   },
   "source": [
    "# DataLoader \n",
    "Transforma o audio em np.array"
   ]
  },
  {
   "metadata": {
    "ExecuteTime": {
     "end_time": "2025-02-13T11:41:31.410832Z",
     "start_time": "2025-02-13T11:41:31.407829Z"
    }
   },
   "cell_type": "code",
   "source": [
    "def criar_dataloader(dataset, batch_size, collate_fn=None):\n",
    "    data_generator = torch.Generator(device='cpu')\n",
    "    data_generator.manual_seed(13)\n",
    "    dataloader = torch.utils.data.DataLoader(\n",
    "        dataset=dataset,\n",
    "        batch_size=batch_size,\n",
    "        shuffle=False,\n",
    "        generator=data_generator,\n",
    "        collate_fn=collate_fn\n",
    "    )\n",
    "    return dataloader\n"
   ],
   "id": "ceb65552eda91f44",
   "outputs": [],
   "execution_count": 4
  },
  {
   "metadata": {},
   "cell_type": "markdown",
   "source": "CVMPT",
   "id": "250465920f3aadc5"
  },
  {
   "metadata": {
    "ExecuteTime": {
     "end_time": "2025-02-13T11:41:37.653884Z",
     "start_time": "2025-02-13T11:41:31.411900Z"
    }
   },
   "cell_type": "code",
   "source": [
    "from main.data_loader.CVMPT import CV_mozilla_PT_Dataset\n",
    "\n",
    "trains_cvm = CV_mozilla_PT_Dataset(\n",
    "    r\"C:\\Users\\USER\\Documents\\Mestrado\\codigo\\Mestrado_VC\\dataset\\cv-corpus-mozilla-pt\\pt\", \n",
    "    path_duracoes_tsv_csv=\"dataset/cv-corpus-mozilla-pt/pt/clip_durations.tsv\",\n",
    "    ext='mp3',\n",
    "    segundos=5\n",
    ")\n",
    "\n",
    "vals_cvm = CV_mozilla_PT_Dataset(\n",
    "    r\"C:\\Users\\USER\\Documents\\Mestrado\\codigo\\Mestrado_VC\\dataset\\cv-corpus-mozilla-pt\\pt\", \n",
    "    path_duracoes_tsv_csv=\"dataset/cv-corpus-mozilla-pt/pt/clip_durations.tsv\",\n",
    "    ext='mp3',\n",
    "    segundos=5,\n",
    "    validacao=True\n",
    ")\n",
    "\n",
    "print(\"Tamanho Treinamento:\",trains_cvm.__len__())\n",
    "print(\"Tamanho validaçao:\",vals_cvm.__len__())\n",
    "\n",
    "\n",
    "train_CVM = criar_dataloader(trains_cvm,1,collate_fn=collate_fn)\n",
    "valid_CVN = criar_dataloader(vals_cvm,1,collate_fn=collate_fn)"
   ],
   "id": "4588ad7f35daf2f6",
   "outputs": [
    {
     "name": "stdout",
     "output_type": "stream",
     "text": [
      "******* Calculando índices das fatias *******\n"
     ]
    },
    {
     "name": "stderr",
     "output_type": "stream",
     "text": [
      "100%|██████████| 170991/170991 [00:00<00:00, 516935.64it/s]\n"
     ]
    },
    {
     "name": "stdout",
     "output_type": "stream",
     "text": [
      "******* Calculando índices das fatias *******\n"
     ]
    },
    {
     "name": "stderr",
     "output_type": "stream",
     "text": [
      "100%|██████████| 19000/19000 [00:00<00:00, 441880.24it/s]"
     ]
    },
    {
     "name": "stdout",
     "output_type": "stream",
     "text": [
      "Tamanho Treinamento: 45632\n",
      "Tamanho validaçao: 5047\n"
     ]
    },
    {
     "name": "stderr",
     "output_type": "stream",
     "text": [
      "\n"
     ]
    }
   ],
   "execution_count": 5
  },
  {
   "metadata": {},
   "cell_type": "markdown",
   "source": "LE",
   "id": "2ae3d97d255488ce"
  },
  {
   "cell_type": "code",
   "id": "b75c8d92",
   "metadata": {
    "_cell_guid": "c169868c-ebc9-4614-a65f-65009b83dbad",
    "_uuid": "868e00bf-b353-4914-b34f-d42556f3b575",
    "execution": {
     "iopub.execute_input": "2025-01-02T01:45:38.555045Z",
     "iopub.status.busy": "2025-01-02T01:45:38.554791Z",
     "iopub.status.idle": "2025-01-02T01:46:03.496519Z",
     "shell.execute_reply": "2025-01-02T01:46:03.495604Z"
    },
    "papermill": {
     "duration": 24.951241,
     "end_time": "2025-01-02T01:46:03.498428",
     "exception": false,
     "start_time": "2025-01-02T01:45:38.547187",
     "status": "completed"
    },
    "tags": [],
    "ExecuteTime": {
     "end_time": "2025-02-13T11:41:37.658887Z",
     "start_time": "2025-02-13T11:41:37.654888Z"
    }
   },
   "source": [
    "\n",
    "from main.data_loader.LE import collate_fn_batch\n",
    "\n",
    "path_natural = \"dataset/2024_AUDIOS_PROJETO_LARINGE/SEM_TRAQUEOSTOMIA/DALLETE_FONO/NATURAL_MP3\"\n",
    "path_eletronica = \"dataset/2024_AUDIOS_PROJETO_LARINGE/SEM_TRAQUEOSTOMIA/DALLETE_FONO/LARINGE_ELETRONICA_MP3\"\n",
    "\n",
    "train_ds = LE_Dataset(path_natural,path_eletronica, 'mp3')\n",
    "val_ds = LE_Dataset(path_natural,path_eletronica, 'mp3', validacao=True)\n",
    "\n",
    "#train\n",
    "trainloader = criar_dataloader(train_ds, batch_size, collate_fn=collate_fn_batch)\n",
    "\n",
    "#val\n",
    "validloader = criar_dataloader(val_ds, batch_size, collate_fn=collate_fn_batch)\n",
    "\n"
   ],
   "outputs": [],
   "execution_count": 6
  },
  {
   "cell_type": "markdown",
   "id": "1cb6f557",
   "metadata": {
    "papermill": {
     "duration": 0.007182,
     "end_time": "2025-01-02T01:46:03.564246",
     "exception": false,
     "start_time": "2025-01-02T01:46:03.557064",
     "status": "completed"
    },
    "tags": []
   },
   "source": []
  },
  {
   "cell_type": "markdown",
   "id": "acd96677",
   "metadata": {
    "papermill": {
     "duration": 0.007152,
     "end_time": "2025-01-02T01:46:03.693699",
     "exception": false,
     "start_time": "2025-01-02T01:46:03.686547",
     "status": "completed"
    },
    "tags": []
   },
   "source": [
    "## AutoEncoder"
   ]
  },
  {
   "cell_type": "code",
   "id": "9de611e5",
   "metadata": {
    "_cell_guid": "1705488f-1a4a-403d-a7f1-b192847f93d7",
    "_uuid": "0d2aad4f-e039-4393-b71d-6d26b3b2d26f",
    "execution": {
     "iopub.execute_input": "2025-01-02T01:46:03.735740Z",
     "iopub.status.busy": "2025-01-02T01:46:03.734998Z",
     "iopub.status.idle": "2025-01-02T01:46:04.639352Z",
     "shell.execute_reply": "2025-01-02T01:46:04.638707Z"
    },
    "papermill": {
     "duration": 0.913897,
     "end_time": "2025-01-02T01:46:04.641315",
     "exception": false,
     "start_time": "2025-01-02T01:46:03.727418",
     "status": "completed"
    },
    "tags": [],
    "ExecuteTime": {
     "end_time": "2025-02-13T11:41:37.862950Z",
     "start_time": "2025-02-13T11:41:37.658887Z"
    }
   },
   "source": [
    "# Models\n",
    "generator = GenerativeNetworkAuto(device)\n",
    "#discriminator = DiscriminativeNetwork(device).to(device)\n",
    "\n",
    "# Optimizers\n",
    "optimizer_gen = AdamW(generator.parameters(), lr=1e-4)#, weight_decay=1e-4) \n",
    "#optimizer_dis = torch.optim.Adam(discriminator.parameters(), lr=1e-5) \n",
    "\n",
    "# Loss\n",
    "# pix2pix\n",
    "loss_gen = nn.MSELoss()\n",
    "loss_dis = nn.BCELoss()"
   ],
   "outputs": [
    {
     "name": "stderr",
     "output_type": "stream",
     "text": [
      "C:\\Users\\USER\\Documents\\Mestrado\\codigo\\Mestrado_VC\\.venv\\Lib\\site-packages\\transformers\\optimization.py:591: FutureWarning: This implementation of AdamW is deprecated and will be removed in a future version. Use the PyTorch implementation torch.optim.AdamW instead, or set `no_deprecation_warning=True` to disable this warning\n",
      "  warnings.warn(\n"
     ]
    }
   ],
   "execution_count": 7
  },
  {
   "metadata": {
    "ExecuteTime": {
     "end_time": "2025-02-13T11:41:38.010429Z",
     "start_time": "2025-02-13T11:41:37.862950Z"
    }
   },
   "cell_type": "code",
   "source": [
    "from main.arquitetura.auto_encoder.modelo.auto_encoder import GenerativeNetworkAuto\n",
    "generator_load = GenerativeNetworkAuto()\n",
    "generator_load.load_state_dict(torch.load(\n",
    "    'main/arquitetura/auto_encoder/pesos/generator_CVMPT_retirada_ruido_v2_best.pt',\n",
    "    map_location=torch.device(device),\n",
    "    weights_only=True\n",
    "    ))\n",
    "generator_load.to(device)\n",
    "loss_gen = nn.L1Loss()"
   ],
   "id": "70e5b4d6e1e4b9cb",
   "outputs": [],
   "execution_count": 8
  },
  {
   "metadata": {},
   "cell_type": "markdown",
   "source": "# Treinamento",
   "id": "a570edc161c8f46b"
  },
  {
   "metadata": {},
   "cell_type": "markdown",
   "source": "LE",
   "id": "f50e4dba1a5d9598"
  },
  {
   "metadata": {
    "ExecuteTime": {
     "end_time": "2025-02-13T11:41:51.507910Z",
     "start_time": "2025-02-13T11:41:38.749659Z"
    }
   },
   "cell_type": "code",
   "source": [
    "\n",
    "from main.arquitetura.auto_encoder.fit.treinamento.LE import train_autoencoder_laringe\n",
    "loss_gen = nn.L1Loss()\n",
    "train_autoencoder_laringe(\n",
    "    generator_load, loss_gen, optimizer_gen,  10 , trainloader, device,\"LE_com_pessos_pretreinados_CVMPT\"\n",
    ")"
   ],
   "id": "9ea5fa0d13eea1da",
   "outputs": [
    {
     "name": "stdout",
     "output_type": "stream",
     "text": [
      "Epocas : 1 / 10 \n"
     ]
    },
    {
     "name": "stderr",
     "output_type": "stream",
     "text": [
      "100%|██████████| 34/34 [00:07<00:00,  4.32it/s]\n"
     ]
    },
    {
     "name": "stdout",
     "output_type": "stream",
     "text": [
      "Melhor modelo salvo com loss 0.08978148549795151\n",
      "Loss : 0.08978148549795151\n",
      "Epocas : 2 / 10 \n"
     ]
    },
    {
     "name": "stderr",
     "output_type": "stream",
     "text": [
      " 65%|██████▍   | 22/34 [00:04<00:02,  4.65it/s]\n"
     ]
    },
    {
     "ename": "KeyboardInterrupt",
     "evalue": "",
     "output_type": "error",
     "traceback": [
      "\u001B[1;31m---------------------------------------------------------------------------\u001B[0m",
      "\u001B[1;31mKeyboardInterrupt\u001B[0m                         Traceback (most recent call last)",
      "Cell \u001B[1;32mIn[11], line 3\u001B[0m\n\u001B[0;32m      1\u001B[0m \u001B[38;5;28;01mfrom\u001B[39;00m\u001B[38;5;250m \u001B[39m\u001B[38;5;21;01mmain\u001B[39;00m\u001B[38;5;21;01m.\u001B[39;00m\u001B[38;5;21;01mmetodos\u001B[39;00m\u001B[38;5;21;01m.\u001B[39;00m\u001B[38;5;21;01mauto_encoder\u001B[39;00m\u001B[38;5;21;01m.\u001B[39;00m\u001B[38;5;21;01mfit\u001B[39;00m\u001B[38;5;21;01m.\u001B[39;00m\u001B[38;5;21;01mtreinamento\u001B[39;00m\u001B[38;5;21;01m.\u001B[39;00m\u001B[38;5;21;01mLE\u001B[39;00m\u001B[38;5;250m \u001B[39m\u001B[38;5;28;01mimport\u001B[39;00m train_autoencoder_laringe\n\u001B[0;32m      2\u001B[0m loss_gen \u001B[38;5;241m=\u001B[39m nn\u001B[38;5;241m.\u001B[39mL1Loss()\n\u001B[1;32m----> 3\u001B[0m \u001B[43mtrain_autoencoder_laringe\u001B[49m\u001B[43m(\u001B[49m\n\u001B[0;32m      4\u001B[0m \u001B[43m    \u001B[49m\u001B[43mgenerator_load\u001B[49m\u001B[43m,\u001B[49m\u001B[43m \u001B[49m\u001B[43mloss_gen\u001B[49m\u001B[43m,\u001B[49m\u001B[43m \u001B[49m\u001B[43moptimizer_gen\u001B[49m\u001B[43m,\u001B[49m\u001B[43m  \u001B[49m\u001B[38;5;241;43m10\u001B[39;49m\u001B[43m \u001B[49m\u001B[43m,\u001B[49m\u001B[43m \u001B[49m\u001B[43mtrainloader\u001B[49m\u001B[43m,\u001B[49m\u001B[43m \u001B[49m\u001B[43mdevice\u001B[49m\u001B[43m,\u001B[49m\u001B[38;5;124;43m\"\u001B[39;49m\u001B[38;5;124;43mLE_com_pessos_pretreinados_CVMPT\u001B[39;49m\u001B[38;5;124;43m\"\u001B[39;49m\n\u001B[0;32m      5\u001B[0m \u001B[43m)\u001B[49m\n",
      "File \u001B[1;32m~\\Documents\\Mestrado\\codigo\\Mestrado_VC\\main\\metodos\\auto_encoder\\fit\\treinamento\\LE.py:58\u001B[0m, in \u001B[0;36mtrain_autoencoder_laringe\u001B[1;34m(generator, loss_gen, optimizer_gen, epochs, train_loader, device, nome_arquivo_modelo, mostrar_histograma)\u001B[0m\n\u001B[0;32m     55\u001B[0m k \u001B[38;5;241m=\u001B[39m \u001B[38;5;241m0\u001B[39m\n\u001B[0;32m     56\u001B[0m \u001B[38;5;28;01mfor\u001B[39;00m i, data_batch \u001B[38;5;129;01min\u001B[39;00m \u001B[38;5;28menumerate\u001B[39m(tqdm(train_loader)):\n\u001B[1;32m---> 58\u001B[0m     batch_natural, batch_eletronica \u001B[38;5;241m=\u001B[39m \u001B[43mpre_processa_batch\u001B[49m\u001B[43m(\u001B[49m\u001B[43mdata_batch\u001B[49m\u001B[43m,\u001B[49m\u001B[43m \u001B[49m\u001B[43mdevice\u001B[49m\u001B[43m)\u001B[49m\n\u001B[0;32m     60\u001B[0m     gen_natural \u001B[38;5;241m=\u001B[39m generator(batch_eletronica)\u001B[38;5;241m.\u001B[39mto(device)\n\u001B[0;32m     62\u001B[0m     optimizer_gen\u001B[38;5;241m.\u001B[39mzero_grad()\n",
      "File \u001B[1;32m~\\Documents\\Mestrado\\codigo\\Mestrado_VC\\main\\metodos\\auto_encoder\\fit\\treinamento\\LE.py:33\u001B[0m, in \u001B[0;36mpre_processa_batch\u001B[1;34m(data_batch, device)\u001B[0m\n\u001B[0;32m     30\u001B[0m batch_eletronica \u001B[38;5;241m=\u001B[39m []\n\u001B[0;32m     32\u001B[0m \u001B[38;5;28;01mfor\u001B[39;00m data \u001B[38;5;129;01min\u001B[39;00m data_batch:\n\u001B[1;32m---> 33\u001B[0m     data_natural, data_eletronica \u001B[38;5;241m=\u001B[39m \u001B[43mpegar_spectograma_natural_e_eletronico_redimencionado\u001B[49m\u001B[43m(\u001B[49m\u001B[43mdata\u001B[49m\u001B[43m)\u001B[49m\n\u001B[0;32m     35\u001B[0m     batch_natural\u001B[38;5;241m.\u001B[39mappend(data_natural)\n\u001B[0;32m     36\u001B[0m     batch_eletronica\u001B[38;5;241m.\u001B[39mappend(data_eletronica)\n",
      "File \u001B[1;32m~\\Documents\\Mestrado\\codigo\\Mestrado_VC\\main\\metodos\\auto_encoder\\fit\\treinamento\\LE.py:15\u001B[0m, in \u001B[0;36mpegar_spectograma_natural_e_eletronico_redimencionado\u001B[1;34m(audio_np)\u001B[0m\n\u001B[0;32m     13\u001B[0m \u001B[38;5;28;01mdef\u001B[39;00m\u001B[38;5;250m \u001B[39m\u001B[38;5;21mpegar_spectograma_natural_e_eletronico_redimencionado\u001B[39m(audio_np: np\u001B[38;5;241m.\u001B[39marray) \u001B[38;5;241m-\u001B[39m\u001B[38;5;241m>\u001B[39m \u001B[38;5;28mtuple\u001B[39m[torch\u001B[38;5;241m.\u001B[39mTensor, torch\u001B[38;5;241m.\u001B[39mTensor]:\n\u001B[1;32m---> 15\u001B[0m     data_re_n \u001B[38;5;241m=\u001B[39m \u001B[43mredimencionar_spectorgama\u001B[49m\u001B[43m(\u001B[49m\u001B[43mtransformar_audio_np_em_spectograma\u001B[49m\u001B[43m(\u001B[49m\u001B[43maudio_np\u001B[49m\u001B[38;5;241;43m.\u001B[39;49m\u001B[43maudio_natural\u001B[49m\u001B[43m)\u001B[49m\u001B[43m,\u001B[49m\u001B[43m \u001B[49m\u001B[43mimage_size\u001B[49m\u001B[43m)\u001B[49m\n\u001B[0;32m     16\u001B[0m     data_re_e \u001B[38;5;241m=\u001B[39m redimencionar_spectorgama(transformar_audio_np_em_spectograma(audio_np\u001B[38;5;241m.\u001B[39maudio_eletronico), image_size)\n\u001B[0;32m     18\u001B[0m     data_re_natural \u001B[38;5;241m=\u001B[39m data_re_n\u001B[38;5;241m.\u001B[39mreshape(\u001B[38;5;241m1\u001B[39m, image_size, image_size)\n",
      "File \u001B[1;32m~\\Documents\\Mestrado\\codigo\\Mestrado_VC\\main\\pre_processamento\\spectograma.py:79\u001B[0m, in \u001B[0;36mredimencionar_spectorgama\u001B[1;34m(audio_np, image_size)\u001B[0m\n\u001B[0;32m     76\u001B[0m scale_time \u001B[38;5;241m=\u001B[39m image_size \u001B[38;5;241m/\u001B[39m audio_np\u001B[38;5;241m.\u001B[39mshape[\u001B[38;5;241m1\u001B[39m]\n\u001B[0;32m     78\u001B[0m \u001B[38;5;66;03m# Redimensionar com interpolação bicúbica\u001B[39;00m\n\u001B[1;32m---> 79\u001B[0m mel_spec_resized \u001B[38;5;241m=\u001B[39m \u001B[43mscipy\u001B[49m\u001B[38;5;241;43m.\u001B[39;49m\u001B[43mndimage\u001B[49m\u001B[38;5;241;43m.\u001B[39;49m\u001B[43mzoom\u001B[49m\u001B[43m(\u001B[49m\u001B[43mmel_spec\u001B[49m\u001B[43m,\u001B[49m\u001B[43m \u001B[49m\u001B[43m(\u001B[49m\u001B[43mscale_freq\u001B[49m\u001B[43m,\u001B[49m\u001B[43m \u001B[49m\u001B[43mscale_time\u001B[49m\u001B[43m)\u001B[49m\u001B[43m,\u001B[49m\u001B[43m \u001B[49m\u001B[43morder\u001B[49m\u001B[38;5;241;43m=\u001B[39;49m\u001B[38;5;241;43m3\u001B[39;49m\u001B[43m)\u001B[49m  \u001B[38;5;66;03m# order=3 → Bicúbico\u001B[39;00m\n\u001B[0;32m     81\u001B[0m \u001B[38;5;28;01mreturn\u001B[39;00m mel_spec_resized\n",
      "File \u001B[1;32m~\\Documents\\Mestrado\\codigo\\Mestrado_VC\\.venv\\Lib\\site-packages\\scipy\\ndimage\\_interpolation.py:862\u001B[0m, in \u001B[0;36mzoom\u001B[1;34m(input, zoom, output, order, mode, cval, prefilter, grid_mode)\u001B[0m\n\u001B[0;32m    858\u001B[0m zoom \u001B[38;5;241m=\u001B[39m np\u001B[38;5;241m.\u001B[39mdivide(zoom_nominator, zoom_div,\n\u001B[0;32m    859\u001B[0m                  out\u001B[38;5;241m=\u001B[39mnp\u001B[38;5;241m.\u001B[39mones_like(\u001B[38;5;28minput\u001B[39m\u001B[38;5;241m.\u001B[39mshape, dtype\u001B[38;5;241m=\u001B[39mnp\u001B[38;5;241m.\u001B[39mfloat64),\n\u001B[0;32m    860\u001B[0m                  where\u001B[38;5;241m=\u001B[39mzoom_div \u001B[38;5;241m!=\u001B[39m \u001B[38;5;241m0\u001B[39m)\n\u001B[0;32m    861\u001B[0m zoom \u001B[38;5;241m=\u001B[39m np\u001B[38;5;241m.\u001B[39mascontiguousarray(zoom)\n\u001B[1;32m--> 862\u001B[0m \u001B[43m_nd_image\u001B[49m\u001B[38;5;241;43m.\u001B[39;49m\u001B[43mzoom_shift\u001B[49m\u001B[43m(\u001B[49m\u001B[43mfiltered\u001B[49m\u001B[43m,\u001B[49m\u001B[43m \u001B[49m\u001B[43mzoom\u001B[49m\u001B[43m,\u001B[49m\u001B[43m \u001B[49m\u001B[38;5;28;43;01mNone\u001B[39;49;00m\u001B[43m,\u001B[49m\u001B[43m \u001B[49m\u001B[43moutput\u001B[49m\u001B[43m,\u001B[49m\u001B[43m \u001B[49m\u001B[43morder\u001B[49m\u001B[43m,\u001B[49m\u001B[43m \u001B[49m\u001B[43mmode\u001B[49m\u001B[43m,\u001B[49m\u001B[43m \u001B[49m\u001B[43mcval\u001B[49m\u001B[43m,\u001B[49m\u001B[43m \u001B[49m\u001B[43mnpad\u001B[49m\u001B[43m,\u001B[49m\n\u001B[0;32m    863\u001B[0m \u001B[43m                     \u001B[49m\u001B[43mgrid_mode\u001B[49m\u001B[43m)\u001B[49m\n\u001B[0;32m    864\u001B[0m \u001B[38;5;28;01mreturn\u001B[39;00m output\n",
      "\u001B[1;31mKeyboardInterrupt\u001B[0m: "
     ]
    }
   ],
   "execution_count": 11
  },
  {
   "metadata": {},
   "cell_type": "markdown",
   "source": "Pre-processamento dos audios",
   "id": "8fe51d061ef035cb"
  },
  {
   "metadata": {
    "ExecuteTime": {
     "end_time": "2025-02-13T11:41:51.509416Z",
     "start_time": "2025-02-13T11:41:51.509416Z"
    }
   },
   "cell_type": "code",
   "source": "((3.0 * 7 ) + 15.24) %24",
   "id": "814cae8236fad5e5",
   "outputs": [],
   "execution_count": null
  },
  {
   "metadata": {},
   "cell_type": "markdown",
   "source": "CVMT",
   "id": "4cada5ca01d8f3a7"
  },
  {
   "metadata": {
    "ExecuteTime": {
     "end_time": "2025-02-13T11:41:51.510417Z",
     "start_time": "2025-02-13T11:41:51.509416Z"
    }
   },
   "cell_type": "code",
   "source": [
    "from main.arquitetura.auto_encoder.fit.treinamento.CVMPT import train_autoencoder_mozilla_pt\n",
    "\n",
    "\n",
    "generator_train = train_autoencoder_mozilla_pt(\n",
    "    generator,\n",
    "    loss_gen,\n",
    "    optimizer_gen,\n",
    "    20,\n",
    "    train_CVM,\n",
    "    device,\n",
    "    \"CVMPT_retirada_ruido_v2\"\n",
    ")"
   ],
   "id": "2b43fde93950691d",
   "outputs": [],
   "execution_count": null
  },
  {
   "metadata": {
    "ExecuteTime": {
     "end_time": "2025-02-13T11:41:51.510417Z",
     "start_time": "2025-02-13T11:41:51.510417Z"
    }
   },
   "cell_type": "code",
   "source": [
    "\n",
    "from main.arquitetura.auto_encoder.fit.validacao.CVMPT import validacao\n",
    "        \n",
    "validacao(valid_CVN, generator,loss_gen,1,device )"
   ],
   "id": "3b23453ea7e765eb",
   "outputs": [],
   "execution_count": null
  },
  {
   "cell_type": "markdown",
   "id": "b077ded5",
   "metadata": {
    "papermill": {
     "duration": null,
     "end_time": null,
     "exception": null,
     "start_time": null,
     "status": "pending"
    },
    "tags": []
   },
   "source": [
    "# Testes"
   ]
  },
  {
   "cell_type": "code",
   "id": "ea440477",
   "metadata": {
    "execution": {
     "iopub.status.busy": "2025-01-02T00:17:13.784122Z",
     "iopub.status.idle": "2025-01-02T00:17:13.784587Z",
     "shell.execute_reply": "2025-01-02T00:17:13.784375Z",
     "shell.execute_reply.started": "2025-01-02T00:17:13.784347Z"
    },
    "papermill": {
     "duration": null,
     "end_time": null,
     "exception": null,
     "start_time": null,
     "status": "pending"
    },
    "tags": [],
    "ExecuteTime": {
     "end_time": "2025-02-13T11:41:51.511415Z",
     "start_time": "2025-02-13T11:41:51.510417Z"
    }
   },
   "source": [
    "# load the model from checkpoints\n",
    "generator_load = GenerativeNetworkAuto()\n",
    "generator_load.load_state_dict(torch.load(\n",
    "    'main/arquitetura/auto_encoder/pesos/generator_LE_com_pessos_pretreinados_CVMPT_best.pt',\n",
    "    map_location=torch.device(\"cpu\"),\n",
    "    weights_only=False\n",
    "    ))\n",
    "generator_load.to(\"cpu\")"
   ],
   "outputs": [],
   "execution_count": null
  },
  {
   "metadata": {
    "ExecuteTime": {
     "end_time": "2025-02-13T11:41:51.511415Z",
     "start_time": "2025-02-13T11:41:51.511415Z"
    }
   },
   "cell_type": "code",
   "source": "",
   "id": "12ac8ed2fb38b9a",
   "outputs": [],
   "execution_count": null
  },
  {
   "metadata": {},
   "cell_type": "code",
   "source": [
    "from main.utils.gerar import spectograma_natural_eletronico_gerado_LE\n",
    "from main.utils.visualizar import spectograma_3\n",
    "audio_original = train_ds.__getitem__(0)\n",
    "audio_original_tuple = (audio_original.audio_natural, audio_original.audio_eletronico)\n",
    "na,el,gerado = spectograma_natural_eletronico_gerado_LE(audio_original_tuple,generator_load)\n",
    "\n",
    "spectograma_3(el,gerado,na,['eletronica','Gerado','Natural Grown Truth'])\n"
   ],
   "id": "491fdaadd712eb47",
   "outputs": [],
   "execution_count": null
  },
  {
   "metadata": {},
   "cell_type": "code",
   "source": [
    "from main.pre_processamento.audio import transformar_imagem_em_audio\n",
    "from main.metricas.similaridade import plot_amplitude_spectrum_from_arrays\n",
    "\n",
    "gerado_audio = transformar_imagem_em_audio(gerado,audio_original.audio_eletronico)\n",
    "\n",
    "original_audio = transformar_imagem_em_audio(na,audio_original.audio_natural)\n",
    "\n",
    "plot_amplitude_spectrum_from_arrays(original_audio,gerado_audio, 44000, \n",
    "                                     titulo=\"Espectro de Amplitude - Exemplo\")"
   ],
   "id": "1b838093d6a4c0c",
   "outputs": [],
   "execution_count": null
  },
  {
   "metadata": {
    "ExecuteTime": {
     "end_time": "2025-02-13T11:41:51.514416Z",
     "start_time": "2025-02-13T11:41:51.514416Z"
    }
   },
   "cell_type": "code",
   "source": [
    "\n",
    "def salva_audio(caminho:str,audio,sr):\n",
    "    sf.write(caminho, audio, sr)\n",
    "    Audio(caminho, rate=str(sr),autoplay=True)\n",
    "    \n",
    "a = transformar_imagem_em_audio(gerado,audio_original[1])\n",
    "salva_audio(\"output/LE/LE_teste_gerado.wav\",a,44000)\n",
    "\n",
    "a = transformar_imagem_em_audio(el,audio_original[1])\n",
    "salva_audio(\"output/LE/LE_teste_eletronico.wav\",a,44000)\n",
    "\n",
    "a = transformar_imagem_em_audio(na,audio_original[0])\n",
    "salva_audio(\"output/LE/LE_teste_natural.wav\",a,44000)"
   ],
   "id": "18c7624f95d8e564",
   "outputs": [],
   "execution_count": null
  },
  {
   "metadata": {
    "ExecuteTime": {
     "end_time": "2025-02-13T11:41:51.514416Z",
     "start_time": "2025-02-13T11:41:51.514416Z"
    }
   },
   "cell_type": "code",
   "source": [
    "from main.pre_processamento.audio import transformar_audio_np_em_wav\n",
    "from IPython.lib.display import Audio\n",
    "\n",
    "_, _, _, spectrogram_original = info_audio(audio_original)\n",
    "\n",
    "audio_sem_ruido_red = redimensionar_audio_para_tamanho_original(audio_sem_ruido,spectrogram_original.shape)\n",
    "generated= transformar_audio_np_em_wav(audio_sem_ruido_red,audio_original)\n",
    "\n",
    "caminho= \"output/original.wav\"\n",
    "sf.write(caminho, generated, sr)\n",
    "Audio(caminho, rate=str(sr),autoplay=True)"
   ],
   "id": "79406a792d178a0e",
   "outputs": [],
   "execution_count": null
  },
  {
   "metadata": {
    "ExecuteTime": {
     "end_time": "2025-02-13T11:41:51.515416Z",
     "start_time": "2025-02-13T11:41:51.515416Z"
    }
   },
   "cell_type": "code",
   "source": [
    "\n",
    "audio_com_ruido_red = redimensionar_audio_para_tamanho_original(audio_com_ruido,spectrogram_original.shape)\n",
    "generated= transformar_audio_np_em_wav(audio_com_ruido_red,audio_original)\n",
    "\n",
    "caminho= \"output/noise.wav\"\n",
    "sf.write(caminho, generated, sr)\n",
    "Audio(caminho, rate=str(sr),autoplay=True)\n"
   ],
   "id": "1dde1613ca1ade2d",
   "outputs": [],
   "execution_count": null
  },
  {
   "metadata": {
    "ExecuteTime": {
     "end_time": "2025-02-13T11:41:51.515416Z",
     "start_time": "2025-02-13T11:41:51.515416Z"
    }
   },
   "cell_type": "code",
   "source": [
    "audio_processado_red = redimensionar_audio_para_tamanho_original(audio_processado,spectrogram_original.shape)\n",
    "generated= transformar_audio_np_em_wav(audio_processado_red,audio_original)\n",
    "\n",
    "caminho= \"output/generated.wav\"\n",
    "sf.write(caminho, generated, sr)\n",
    "Audio(caminho, rate=str(sr),autoplay=True)"
   ],
   "id": "a4adf22c4bc92378",
   "outputs": [],
   "execution_count": null
  },
  {
   "metadata": {},
   "cell_type": "markdown",
   "source": "# Exemplos Didaticos",
   "id": "7f9620279409b7f7"
  },
  {
   "metadata": {},
   "cell_type": "code",
   "outputs": [],
   "execution_count": null,
   "source": [
    "from main.pre_processamento.spectograma import transformar_audio_np_em_spectograma, redimencionar_spectorgama\n",
    "\n",
    "data_orginal = trains_cvm.__getitem__(0)\n",
    "print(data_orginal[0].shape)\n",
    "\n",
    "data = np.expand_dims(data_orginal[0], axis=0)\n",
    "\n",
    "print(transformar_audio_np_em_spectograma(data).shape)\n",
    "\n",
    "data = transformar_audio_np_em_spectograma(data)\n",
    "data = redimencionar_spectorgama(data[0], image_size=1024)\n",
    "\n",
    "print(data.shape)\n",
    "\n",
    "fig, axes = plt.subplots(1, 2, figsize=(16, 10))\n",
    "\n",
    "axes[0].imshow(data, cmap='viridis', origin='lower')\n",
    "axes[0].set_title(\"Redimensionado\")\n",
    "\n",
    "axes[1].imshow(transformar_audio_np_em_spectograma(data_orginal[0]), cmap='viridis', origin='lower')\n",
    "axes[1].set_title(\"Original\")\n",
    "\n",
    "plt.show()"
   ],
   "id": "8123a64af4e0ea05"
  },
  {
   "metadata": {},
   "cell_type": "code",
   "source": [
    "\n",
    "from main.pre_processamento.audio import add_ruido_audio\n",
    "\n",
    "audio, sr = trains_cvm.__getitem__(111)\n",
    "add_ruido_audio(audio,sr,0.1,ruido=\"robotic\")\n"
   ],
   "id": "f70ebf56479ac731",
   "outputs": [],
   "execution_count": null
  },
  {
   "metadata": {
    "ExecuteTime": {
     "end_time": "2025-02-13T11:41:51.517416Z",
     "start_time": "2025-02-13T11:41:51.517416Z"
    }
   },
   "cell_type": "code",
   "source": [
    "from main.utils.visualizar import spectograma_3, spectograma_CVMPT\n",
    "\n",
    "index = 0\n",
    "audio_original = np.expand_dims(train_ds.__getitem__(index)[0], axis=0)[0]\n",
    "\n",
    "sr = train_ds.__getitem__(index)[1]\n",
    "audio_sem_ruido, audio_com_ruido, audio_processado = spectograma_CVMPT(audio_original,sr, generator_load)\n",
    "\n",
    "print(audio_sem_ruido.shape)\n",
    "print(audio_com_ruido.shape)\n",
    "print(audio_processado.shape)\n",
    "\n",
    "spectograma_3(audio_com_ruido, audio_processado, audio_sem_ruido ,[\"Com Ruido (input)\", \"Gerada (Output)\", \"Original Sem ruido (Ground Truth)\"]) "
   ],
   "id": "13617e99293f40",
   "outputs": [],
   "execution_count": null
  },
  {
   "metadata": {},
   "cell_type": "code",
   "source": [
    "\n",
    "audio_original ,sr = trains_cvm.__getitem__(0)\n",
    "print(\"Audio original\",audio_original.shape)\n",
    "\n",
    "phase, MIN, MAX, spectrogram_original = info_audio(audio_original)\n",
    "\n",
    "print(\"mel_spec Original\",spectrogram_original.shape)\n",
    "\n",
    "mel_spec_resized = redimencionar_spectorgama(spectrogram_original,1024)\n",
    "print(\"mel_spec_resized\",mel_spec_resized.shape)\n",
    "\n",
    "mel_spec_original_fake = redimensionar_audio_para_tamanho_original(mel_spec_resized,spectrogram_original.shape)\n",
    "print(\"mel_spec_original_fake\",mel_spec_original_fake.shape)\n",
    "\n",
    "spectograma_3(spectrogram_original, mel_spec_resized,mel_spec_original_fake, [\"\",\"\",\"\"])"
   ],
   "id": "b11a86a2d55bc1ce",
   "outputs": [],
   "execution_count": null
  },
  {
   "metadata": {},
   "cell_type": "markdown",
   "source": "## 1. ANALISE DE FALA (SPEECH ANALYSIS)",
   "id": "6ed3fc5a6e4f2f6a"
  },
  {
   "metadata": {
    "ExecuteTime": {
     "end_time": "2025-02-14T01:22:52.041283Z",
     "start_time": "2025-02-14T01:22:48.100307Z"
    }
   },
   "cell_type": "code",
   "source": [
    "import whisper\n",
    "import torch\n",
    "import torchaudio\n",
    "import librosa\n",
    "import numpy as np\n",
    "import matplotlib.pyplot as plt\n",
    "from transformers import pipeline\n",
    "from torchaudio.pipelines import WAV2VEC2_ASR_BASE_960H\n",
    "# Carregar arquivo de áudio (substitua 'audio.wav' pelo seu arquivo)\n",
    "audio_path = 'output/audios_gerados/LE/LE_teste_natural.wav'\n",
    "\n",
    "\n",
    "\n",
    "### MÉTODO 1: TRANSCRIÇÃO MELHORADA COM WHISPER ###\n",
    "def transcrever_whisper(audio_path):\n",
    "    modelo = whisper.load_model(\"small\")  # Pode ser \"tiny\", \"base\", \"small\", \"medium\", \"large\"\n",
    "    transcricao = modelo.transcribe(audio_path)[\"text\"]\n",
    "    return transcricao\n",
    "\n",
    "### MÉTODO 2: CORREÇÃO DE TEXTO COM MODELO DE LINGUAGEM ###\n",
    "def corrigir_texto(texto):\n",
    "    corretor = pipeline(\"text2text-generation\", model=\"t5-base\")  # Modelo de correção de texto\n",
    "    texto_corrigido = corretor(f\"corrigir: {texto}\", max_length=50)[0]['generated_text']\n",
    "    return texto_corrigido\n",
    "\n",
    "### MÉTODO 3: EXTRAÇÃO DE FONEMAS COM WAV2VEC 2.0 ###\n",
    "def extrair_fonemas(audio_path):\n",
    "    modelo_asr = WAV2VEC2_ASR_BASE_960H.get_model()  # Carrega modelo ASR\n",
    "    waveform, sample_rate = torchaudio.load(audio_path)  # Carrega o áudio\n",
    "    with torch.no_grad():\n",
    "        transcricao_fonemica = modelo_asr(waveform)  # Converte fala para fonemas\n",
    "    return transcricao_fonemica\n",
    "\n",
    "### EXTRAÇÃO DE PITCH (F0) E ENERGIA DA FALA ###\n",
    "def extract_pitch_energy(audio_path):\n",
    "    y, sr = librosa.load(audio_path, sr=None)  # Carregar áudio\n",
    "\n",
    "    # Calcular Pitch (F0) usando o método Yin\n",
    "    pitches, magnitudes = librosa.piptrack(y=y, sr=sr)\n",
    "\n",
    "    # Obter os valores de Pitch mais fortes\n",
    "    pitch = []\n",
    "    for i in range(pitches.shape[1]):  \n",
    "        index = np.argmax(magnitudes[:, i])  # Índice da maior magnitude\n",
    "        pitch_value = pitches[index, i]\n",
    "        pitch.append(pitch_value if pitch_value > 0 else np.nan)  # Filtrar valores zero\n",
    "\n",
    "    # Calcular Energia (intensidade da voz)\n",
    "    energy = librosa.feature.rms(y=y)[0]\n",
    "\n",
    "    return pitch, energy, sr, len(y) / sr\n",
    "\n",
    "### EXECUÇÃO DOS MÉTODOS ###\n",
    "texto_whisper = transcrever_whisper(audio_path)  # Método 1\n",
    "texto_corrigido = corrigir_texto(texto_whisper)  # Método 2\n",
    "fonemas = extrair_fonemas(audio_path)  # Método 3\n",
    "pitch, energia, sr, duracao = extract_pitch_energy(audio_path)  # Extração de pitch e energia\n",
    "\n",
    "### EXIBIR RESULTADOS ###\n",
    "print(\"📜 **Transcrição com Whisper:**\", texto_whisper)\n",
    "print(\"✅ **Texto Corrigido:**\", texto_corrigido)\n",
    "print(\"🔡 **Representação Fonética (Fonemas):**\", fonemas)\n",
    "\n",
    "# Plot dos gráficos\n",
    "fig, ax = plt.subplots(2, 1, figsize=(10, 6))\n",
    "\n",
    "# Gráfico do Pitch\n",
    "ax[0].plot(np.linspace(0, duracao, len(pitch)), pitch, label=\"Pitch (F0)\", color='b')\n",
    "ax[0].set_title(\"Variação do Pitch (F0)\")\n",
    "ax[0].set_ylabel(\"Frequência (Hz)\")\n",
    "ax[0].set_xlabel(\"Tempo (s)\")\n",
    "ax[0].legend()\n",
    "ax[0].grid()\n",
    "\n",
    "# Gráfico da Energia\n",
    "ax[1].plot(np.linspace(0, duracao, len(energia)), energia, label=\"Energia da Fala\", color='r')\n",
    "ax[1].set_title(\"Energia da Voz ao Longo do Tempo\")\n",
    "ax[1].set_ylabel(\"Energia\")\n",
    "ax[1].set_xlabel(\"Tempo (s)\")\n",
    "ax[1].legend()\n",
    "ax[1].grid()\n",
    "\n",
    "plt.tight_layout()\n",
    "plt.show()\n"
   ],
   "id": "41402c5224ea6c42",
   "outputs": [
    {
     "name": "stderr",
     "output_type": "stream",
     "text": [
      "Device set to use cuda:0\n"
     ]
    },
    {
     "name": "stdout",
     "output_type": "stream",
     "text": [
      "📜 **Transcrição com Whisper:**  Um amigo veio visitar.\n",
      "✅ **Texto Corrigido:** Corrigir: Um amigo veio visitar.\n",
      "🔡 **Representação Fonética (Fonemas):** (tensor([[[14.5307, -0.5665, -2.7576,  ..., -7.2398, -7.4764, -8.7999],\n",
      "         [14.7436, -0.8224, -2.8111,  ..., -7.2154, -7.4814, -8.8414],\n",
      "         [14.8571, -0.9091, -2.8755,  ..., -7.1778, -7.4565, -8.8562],\n",
      "         ...,\n",
      "         [14.8207,  0.2026, -2.8027,  ..., -7.3612, -7.8438, -8.7654],\n",
      "         [14.9838,  0.1510, -2.8369,  ..., -7.4690, -7.8023, -8.8449],\n",
      "         [14.9739,  0.1329, -2.8054,  ..., -7.4690, -7.8517, -8.8669]]]), None)\n"
     ]
    },
    {
     "data": {
      "text/plain": [
       "<Figure size 1000x600 with 2 Axes>"
      ],
      "image/png": "[encoded data removed]"
     },
     "metadata": {},
     "output_type": "display_data"
    }
   ],
   "execution_count": 9
  },
  {
   "metadata": {
    "ExecuteTime": {
     "end_time": "2025-02-14T01:46:43.243973Z",
     "start_time": "2025-02-14T01:46:40.497386Z"
    }
   },
   "cell_type": "code",
   "source": [
    "import crepe\n",
    "import torch\n",
    "import torchaudio\n",
    "audio_path = 'output/audios_gerados/LE/LE_teste_natural.wav'\n",
    "y, sr_orig = librosa.load(audio_path, sr=32000)\n",
    "print(\"Taxa de amostragem original:\", sr_orig)\n",
    "\n",
    "# Reamostrar o áudio para 16000 Hz\n",
    "target_sr = 16000\n",
    "y_resampled = librosa.resample(y, orig_sr=sr_orig, target_sr=target_sr)\n",
    "print(\"Áudio reamostrado para:\", target_sr, \"Hz\")\n",
    "    \n",
    "\n",
    "# O CREPE trabalha diretamente com arquivos de áudio; podemos usar o arquivo original ou o áudio reamostrado.\n",
    "# Aqui, usamos o arquivo 'audio.wav' com a taxa de amostragem correta (por exemplo, 16kHz ou 22050Hz, dependendo do áudio)\n",
    "# (Se necessário, converta ou reamostre previamente para a taxa desejada para o CREPE.)\n",
    "# Usando o método crepe.predict para extrair o pitch\n",
    "print(sr)\n",
    "time_crepe, frequency, confidence, activation = crepe.predict(y_resampled, sr=sr, viterbi=True)\n",
    "\n",
    "# Plot dos resultados do pitch\n",
    "plt.figure(figsize=(10, 4))\n",
    "plt.plot(time_crepe, frequency, label='Pitch (F0)', color='b')\n",
    "plt.xlabel('Tempo (s)')\n",
    "plt.ylabel('Frequência (Hz)')\n",
    "plt.title('Extração de Pitch usando CREPE')\n",
    "plt.legend()\n",
    "plt.grid(True)\n",
    "plt.show()"
   ],
   "id": "6b61896be1dcf449",
   "outputs": [
    {
     "name": "stdout",
     "output_type": "stream",
     "text": [
      "Taxa de amostragem original: 32000\n",
      "Áudio reamostrado para: 16000 Hz\n",
      "32000\n",
      "\u001B[1m8/8\u001B[0m \u001B[32m━━━━━━━━━━━━━━━━━━━━\u001B[0m\u001B[37m\u001B[0m \u001B[1m3s\u001B[0m 319ms/step\n"
     ]
    },
    {
     "data": {
      "text/plain": [
       "<Figure size 1000x400 with 1 Axes>"
      ],
      "image/png": "[encoded data removed]"
     },
     "metadata": {},
     "output_type": "display_data"
    }
   ],
   "execution_count": 26
  },
  {
   "metadata": {},
   "cell_type": "markdown",
   "source": "",
   "id": "beac6c1d40824364"
  },
  {
   "metadata": {},
   "cell_type": "code",
   "outputs": [],
   "execution_count": null,
   "source": "",
   "id": "716c95ad158f9701"
  }
 ],
 "metadata": {
  "kaggle": {
   "accelerator": "nvidiaTeslaT4",
   "dataSources": [
    {
     "datasetId": 1130776,
     "sourceId": 1897587,
     "sourceType": "datasetVersion"
    }
   ],
   "dockerImageVersionId": 30786,
   "isGpuEnabled": true,
   "isInternetEnabled": true,
   "language": "python",
   "sourceType": "notebook"
  },
  "kernelspec": {
   "display_name": "Python 3",
   "language": "python",
   "name": "python3"
  },
  "language_info": {
   "codemirror_mode": {
    "name": "ipython",
    "version": 3
   },
   "file_extension": ".py",
   "mimetype": "text/x-python",
   "name": "python",
   "nbconvert_exporter": "python",
   "pygments_lexer": "ipython3",
   "version": "3.10.14"
  },
  "papermill": {
   "default_parameters": {},
   "duration": 3676.079926,
   "end_time": "2025-01-02T02:46:45.740246",
   "environment_variables": {},
   "exception": true,
   "input_path": "__notebook__.ipynb",
   "output_path": "__notebook__.ipynb",
   "parameters": {},
   "start_time": "2025-01-02T01:45:29.660320",
   "version": "2.6.0"
  }
 },
 "nbformat": 4,
 "nbformat_minor": 5
}
